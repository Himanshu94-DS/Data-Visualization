{
 "cells": [
  {
   "cell_type": "markdown",
   "id": "b3dbb171-63af-4b88-a23f-68284cd43663",
   "metadata": {},
   "source": [
    "### MATPLOTLIB ASSIGNMENT:\n",
    "(Use Matplotlib for the visualization of the given questions)"
   ]
  },
  {
   "cell_type": "code",
   "execution_count": 1,
   "id": "6792e3f2-2b8b-41e3-abdd-7b52a3be7754",
   "metadata": {},
   "outputs": [],
   "source": [
    "# import matplotlib.pyplot as plt\n",
    "# import numpy as np"
   ]
  },
  {
   "cell_type": "code",
   "execution_count": 2,
   "id": "a1c43301-5642-44e1-9ad9-96a206d1cc09",
   "metadata": {},
   "outputs": [],
   "source": [
    "##1. Create a scatter plot using Matplotlib to visualize the relationship between two arrays, x and y for the given data.\n",
    "##  x = [1, 2, 3, 4, 5, 6, 7, 8, 9, 10]\n",
    "##  y = [2, 4, 5, 7, 6, 8, 9, 10, 12, 13]\n",
    "\n",
    "\n",
    "\n",
    "# plt.scatter(np.array(x),np.array(y))"
   ]
  },
  {
   "cell_type": "code",
   "execution_count": 3,
   "id": "837089e9-83d0-4d25-9a4b-573fe774f5e5",
   "metadata": {},
   "outputs": [],
   "source": [
    "##2. Generate a line plot to visualize the trend of values for the given data.\n",
    "##  data = np.array([3, 7, 9, 15, 22, 29, 35])\n",
    "\n",
    "\n",
    "\n",
    "# plt.plot(data,c='g')"
   ]
  },
  {
   "cell_type": "code",
   "execution_count": 4,
   "id": "e8604178-f7f8-47d9-b392-3d725b30006d",
   "metadata": {},
   "outputs": [],
   "source": [
    "##3. Display a bar chart to represent the frequency of each item in the given array categories.\n",
    "##   categories = ['A', 'B', 'C', 'D', 'E']\n",
    "##   values = [25, 40, 30, 35, 20]\n",
    "\n",
    "\n",
    "\n",
    "# plt.bar(categories,values,color='red')"
   ]
  },
  {
   "cell_type": "code",
   "execution_count": 5,
   "id": "8cd298cf-f48f-4637-baca-6b8f01357044",
   "metadata": {},
   "outputs": [],
   "source": [
    "##4. Create a histogram to visualize the distribution of values in the array data.\n",
    "##   data = np.random.normal(0, 1, 1000)\n",
    "\n",
    "\n",
    "# plt.hist(data,bins=20)\n",
    "# plt.show()"
   ]
  },
  {
   "cell_type": "code",
   "execution_count": 6,
   "id": "54c40140-005d-4407-9a7e-da6884e2327e",
   "metadata": {},
   "outputs": [],
   "source": [
    "##5. Show a pie chart to represent the percentage distribution of different sections in the array `sections`.\n",
    "##   sections = ['Section A', 'Section B', 'Section C', 'Section D']\n",
    "##   sizes = [25, 30, 15, 30]\n",
    "\n",
    "\n",
    "\n",
    "\n",
    "# plt.pie(sizes,shadow=True,autopct=\"%1.1f%%\",labels=sections)\n",
    "# plt.show()"
   ]
  },
  {
   "cell_type": "markdown",
   "id": "4945876c-f502-46f5-9950-2b7e475dd6c3",
   "metadata": {},
   "source": [
    "### SEABORN ASSIGNMENT:\n",
    " (Use Seaborn for the visualization of the given questions)"
   ]
  },
  {
   "cell_type": "code",
   "execution_count": 7,
   "id": "bfe68ec5-2fbe-44b9-8a7c-c2ab2c715ae0",
   "metadata": {},
   "outputs": [],
   "source": [
    "# import seaborn as sns\n",
    "# import pandas as pd"
   ]
  },
  {
   "cell_type": "code",
   "execution_count": 8,
   "id": "a742f375-5f8d-4c91-8bce-4c9c8e337a02",
   "metadata": {},
   "outputs": [],
   "source": [
    "##1. Create a scatter plot to visualize the relationship between two variables, by generating a synthetic dataset.\n",
    "\n",
    "\n",
    "\n",
    "\n",
    "\n",
    "# sns.get_dataset_names()\n",
    "# df = sns.load_dataset('tips')\n",
    "# sns.scatterplot(x='tip', y='total_bill',data=df,hue='smoker')"
   ]
  },
  {
   "cell_type": "code",
   "execution_count": 9,
   "id": "0981ddf8-74fc-40b9-b0af-f3fbf84eab94",
   "metadata": {},
   "outputs": [],
   "source": [
    "##2. Generate a dataset of random numbers. Visualize the distribution of a numerical variable.\n",
    "\n",
    "\n",
    "\n",
    "# data = np.random.normal(0,1,50)\n",
    "# df1 = pd.DataFrame(data, columns=['value'])\n",
    "# sns.histplot(x = 'value',data=df1,kde = True)"
   ]
  },
  {
   "cell_type": "code",
   "execution_count": 10,
   "id": "f6e8b896-f41d-4654-a346-82df4d82b251",
   "metadata": {},
   "outputs": [],
   "source": [
    "##3. Create a dataset representing categories and their corresponding values. Compare different categories \n",
    "##   based on numerical values.\n",
    "\n",
    "\n",
    "\n",
    "\n",
    "\n",
    "# df = pd.DataFrame({\"categories\" : ['A', 'B', 'C', 'D', 'E'],\"values\" : [25, 40, 30, 35, 20]})\n",
    "# sns.barplot(x =\"categories\",y =\"values\", data=df)"
   ]
  },
  {
   "cell_type": "code",
   "execution_count": 11,
   "id": "cb20526f-e9b8-42f5-bb02-292beba3775f",
   "metadata": {},
   "outputs": [],
   "source": [
    "##4. Generate a dataset with categories and numerical values. Visualize the distribution of a \n",
    "##   numerical variable across different categories.\n",
    "\n",
    "\n",
    "\n",
    "\n",
    "# df = sns.load_dataset('tips')\n",
    "# sns.violinplot(x =\"day\", y =\"total_bill\", data=df)"
   ]
  },
  {
   "cell_type": "code",
   "execution_count": 12,
   "id": "6ba16297-2dfd-4ef4-9b22-7b555a05c0ea",
   "metadata": {},
   "outputs": [],
   "source": [
    "##5 Generate a synthetic dataset with correlated features. Visualize the correlation matrix of a dataset using a heatmap.\n",
    "\n",
    "\n",
    "\n",
    "\n",
    "# df = sns.load_dataset('tips')\n",
    "# df1 = df[['total_bill','tip','size']]\n",
    "# sns.heatmap(df1.corr(),cmap='rainbow',annot = True)"
   ]
  },
  {
   "cell_type": "markdown",
   "id": "f4808410-8a8b-4692-84d8-918d449e2e89",
   "metadata": {},
   "source": [
    "### PLOTLY ASSIGNMENT:\n",
    " (Use Plotly for the visualization of the given questions)"
   ]
  },
  {
   "cell_type": "code",
   "execution_count": 13,
   "id": "c98c4364-39f9-4182-8987-8d8883492161",
   "metadata": {},
   "outputs": [],
   "source": [
    "# import plotly.graph_objects as go\n",
    "# import plotly.express as px\n",
    "# import plotly.io as pio\n",
    "# pio.renderers.default='notebook'"
   ]
  },
  {
   "cell_type": "code",
   "execution_count": 14,
   "id": "8806a87e-e877-476c-b364-77a0ae254fe3",
   "metadata": {},
   "outputs": [],
   "source": [
    "##1. Using the given dataset, to generate a 3D scatter plot to visualize the distribution of data points in\n",
    "##   a three dimensional space.\n",
    "## np.random.seed(30)\n",
    "## data = {'X': np.random.uniform(-10, 10, 300),'Y': np.random.uniform(-10, 10, 300),'Z': np.random.uniform(-10, 10, 300)}\n",
    "## df = pd.DataFrame(data)\n",
    "\n",
    "\n",
    "\n",
    "\n",
    "# fig = go.Figure()\n",
    "# fig.add_trace(go.Scatter3d(x=df.X,y=df.Y,z=df.Z,mode='markers'))"
   ]
  },
  {
   "cell_type": "code",
   "execution_count": 15,
   "id": "33cfbddc-c05c-4ff8-9635-32fe7f386054",
   "metadata": {},
   "outputs": [],
   "source": [
    "##2 Using the Student Grades, create a violin plot to display the distribution of scores across different grade categories.\n",
    "##  np.random.seed(15)\n",
    "##  data = {'Grade': np.random.choice(['A', 'B', 'C', 'D', 'F'], 200),'Score': np.random.randint(50, 100, 200)}\n",
    "##  df = pd.DataFrame(data)\n",
    "\n",
    "\n",
    "\n",
    "# fig = px.violin(x='Grade',y='Score',data_frame=df)\n",
    "# fig.show()"
   ]
  },
  {
   "cell_type": "code",
   "execution_count": 16,
   "id": "b823b5d7-9796-490c-930e-9a45a1e54fa2",
   "metadata": {},
   "outputs": [],
   "source": [
    "##3. Using the sales data, generate a heatmap to visualize the variation in sales across different months and days.\n",
    "##   np.random.seed(20)\n",
    "##   data = {\n",
    "##  'Month': np.random.choice(['Jan', 'Feb', 'Mar', 'Apr', 'May'], 100),\n",
    "##  'Day': np.random.choice(range(1, 31), 100),\n",
    "##  'Sales': np.random.randint(1000, 5000, 100)}\n",
    "##   df = pd.DataFrame(data)\n",
    "\n",
    "\n",
    "\n",
    "\n",
    "# fig = px.imshow(df[['Sales']],y=list(df.Month),text_auto=True)\n",
    "# fig.show()"
   ]
  },
  {
   "cell_type": "code",
   "execution_count": 17,
   "id": "25497bc4-2208-4cf3-a63f-ac2a48076f69",
   "metadata": {},
   "outputs": [],
   "source": [
    "##4. Using the given x and y data, generate a 3D surface plot to visualize the function \n",
    "##   x = np.linspace(-5, 5, 100)\n",
    "##   y = np.linspace(-5, 5, 100)\n",
    "##   xx, yy = np.meshgrid(x, y)\n",
    "##   z = np.sin(np.sqrt(xx**2 + yy**2))\n",
    "##   data = {'X': xx.flatten(),'Y': yy.flatten(),'Z': z.flatten()}\n",
    "##   df = pd.DataFrame(data)\n",
    "\n",
    "\n",
    "\n",
    "\n",
    "# fig = go.Figure()\n",
    "# fig.add_trace(go.Surface(x=xx,y=yy,z=z))\n",
    "# fig.show()"
   ]
  },
  {
   "cell_type": "code",
   "execution_count": 18,
   "id": "b5be53d6-e758-4acd-913f-dc56468c55c7",
   "metadata": {},
   "outputs": [],
   "source": [
    "##5. Using the given dataset, create a bubble chart to represent each country's population (y-axis), GDP (x-axis), \n",
    "##  and bubblesize proportional to the population.\n",
    "##  np.random.seed(25)\n",
    "##  data = {'Country': ['USA', 'Canada', 'UK','Germany', 'France'],'Population': np.random.randint(100, 1000, 5),\n",
    "## 'GDP': np.random.randint(500, 2000,5)}\n",
    "##  df = pd.DataFrame(data)\n",
    "\n",
    "\n",
    "\n",
    "\n",
    "\n",
    "# fig = px.scatter(x='GDP',y='Population',size='Population',data_frame=df)\n",
    "# fig.show()"
   ]
  },
  {
   "cell_type": "markdown",
   "id": "7a1cd8e3-6a2b-45e6-b086-99d2b830b7f1",
   "metadata": {},
   "source": [
    "### BOKEH ASSIGNMENT:\n",
    " (Use Bokeh for the visualization of the given questions)"
   ]
  },
  {
   "cell_type": "code",
   "execution_count": 19,
   "id": "0f159bd0-e8ea-4103-a567-c5f1de8fd489",
   "metadata": {},
   "outputs": [],
   "source": [
    "# from bokeh.plotting import figure,output_file,show\n",
    "# from bokeh.io import output_notebook\n",
    "# output_notebook()"
   ]
  },
  {
   "cell_type": "code",
   "execution_count": 20,
   "id": "48896c28-de3c-419c-8d7b-e4aba0e550c6",
   "metadata": {},
   "outputs": [],
   "source": [
    "##1. Create a Bokeh plot displaying a sine wave. Set x-values from 0 to 10 and y-values as the sine of x.\n",
    " \n",
    " \n",
    " \n",
    "\n",
    "\n",
    "# x = np.linspace(0,10,100)\n",
    "# y = np.sin(x)\n",
    "# p = figure(title='sin function')\n",
    "# p.line(x,y,line_width=3)\n",
    "# show(p)"
   ]
  },
  {
   "cell_type": "code",
   "execution_count": 21,
   "id": "accb0d62-fe38-4064-80e3-6d4a7a863099",
   "metadata": {},
   "outputs": [],
   "source": [
    "##2. Create a Bokeh scatter plot using randomly generated x and y values. Use different sizes and colors for the \n",
    "##  markers based on the 'sizes' and 'colors' columns.\n",
    "\n",
    "\n",
    "\n",
    "\n",
    "# x = np.random.randint(1,100,20)\n",
    "# y = np.random.randint(1,100,20)\n",
    "# p = figure(title='scatter graph',tools = 'hover',height=1000,width=1000)\n",
    "# p.scatter(x,y,fill_color='green',size=y)\n",
    "# show(p)"
   ]
  },
  {
   "cell_type": "code",
   "execution_count": 22,
   "id": "59c8fb7b-b495-4619-a1e8-e103a2589ccd",
   "metadata": {},
   "outputs": [],
   "source": [
    "##3. Generate a Bokeh bar chart representing the counts of different fruits using the following dataset.\n",
    "##   fruits = ['Apples', 'Oranges', 'Bananas', 'Pears']\n",
    "##   counts = [20, 25, 30, 35]\n",
    "\n",
    "\n",
    "\n",
    "\n",
    "# output_file('bokeh_graoh.html')\n",
    "# p = figure(x_range = fruits,title='fruits counts')\n",
    "# p.vbar(x=fruits,top=counts,width=0.5)\n",
    "# show(p)"
   ]
  },
  {
   "cell_type": "code",
   "execution_count": 23,
   "id": "202225b4-8ea6-4b17-8b6d-7d316abc9fdc",
   "metadata": {},
   "outputs": [],
   "source": [
    "##4. Create a Bokeh histogram to visualize the distribution of the given data.\n",
    "##   data_hist = np.random.randn(1000)\n",
    "##   hist, edges = np.histogram(data_hist, bins=30)\n",
    "\n",
    "\n",
    "\n",
    "\n",
    "# p = figure()\n",
    "# p.quad(top=hist,bottom=0,left=edges[:-1],right=edges[1:])\n",
    "# show(p)"
   ]
  },
  {
   "cell_type": "code",
   "execution_count": 24,
   "id": "848eb621-b99c-47bd-9d2f-cb9ff30540f6",
   "metadata": {},
   "outputs": [],
   "source": [
    "## 5. Create a Bokeh heatmap using the provided dataset.\n",
    "## data_heatmap = np.random.rand(10, 10)\n",
    "##   x = np.linspace(0, 1, 10)\n",
    "##   y = np.linspace(0, 1, 10)\n",
    "##   xx, yy = np.meshgrid(x, y)\n",
    "\n",
    "\n",
    "\n",
    "\n",
    "\n",
    "# x_flat = xx.flatten()\n",
    "# y_flat = yy.flatten()\n",
    "# data_flat = data_heatmap.flatten()\n",
    "# p = figure()\n",
    "# p.rect(x='x',y='y',width=0.1,height=0.1,source=dict(x=x_flat,y=y_flat,value=data_flat))\n",
    "#show(p)"
   ]
  }
 ],
 "metadata": {
  "kernelspec": {
   "display_name": "Python 3 (ipykernel)",
   "language": "python",
   "name": "python3"
  },
  "language_info": {
   "codemirror_mode": {
    "name": "ipython",
    "version": 3
   },
   "file_extension": ".py",
   "mimetype": "text/x-python",
   "name": "python",
   "nbconvert_exporter": "python",
   "pygments_lexer": "ipython3",
   "version": "3.13.1"
  }
 },
 "nbformat": 4,
 "nbformat_minor": 5
}
